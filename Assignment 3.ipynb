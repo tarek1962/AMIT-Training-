{
 "cells": [
  {
   "cell_type": "markdown",
   "metadata": {},
   "source": [
    "# Assignment 3"
   ]
  },
  {
   "cell_type": "markdown",
   "metadata": {},
   "source": [
    "### Write a function to count the number 4 in a given list."
   ]
  },
  {
   "cell_type": "code",
   "execution_count": 1,
   "metadata": {},
   "outputs": [
    {
     "name": "stdout",
     "output_type": "stream",
     "text": [
      "1\n"
     ]
    }
   ],
   "source": [
    "def counter(numbers):\n",
    "    count=0\n",
    "    for num in numbers:\n",
    "        if num==4:\n",
    "            \n",
    "            count=count+1\n",
    "            return count\n",
    "print(counter([1, 2 , 3, 4, 6 , 9, 8 ]))           "
   ]
  },
  {
   "cell_type": "markdown",
   "metadata": {},
   "source": [
    "### write a  function to check whether a number is divisible by another number."
   ]
  },
  {
   "cell_type": "code",
   "execution_count": 2,
   "metadata": {},
   "outputs": [
    {
     "name": "stdout",
     "output_type": "stream",
     "text": [
      "number 1 is not divisible by number 2\n",
      "number 1 is divisible by number 2\n"
     ]
    }
   ],
   "source": [
    "#create fun\n",
    "def deviation(num1,num2):\n",
    "    #condition of function\n",
    "    if num1 % num2==0:\n",
    "        print('number 1 is divisible by number 2')\n",
    "    else:\n",
    "        print('number 1 is not divisible by number 2')\n",
    "#calling function        \n",
    "deviation(17,15)\n",
    "deviation(4,2)"
   ]
  },
  {
   "cell_type": "markdown",
   "metadata": {},
   "source": [
    "### write a function to find the maximum and minimum numbers from a sequence of numbers."
   ]
  },
  {
   "cell_type": "code",
   "execution_count": 3,
   "metadata": {},
   "outputs": [
    {
     "name": "stdout",
     "output_type": "stream",
     "text": [
      "(9999, 2)\n"
     ]
    }
   ],
   "source": [
    "#create a fun \n",
    "def max_min (numbers):\n",
    "    #create 2 parameters to make a comparison it with each num in a sequence of numbers \n",
    "    max = numbers[0]\n",
    "    min = numbers[0]\n",
    "    \n",
    "    for num in numbers:\n",
    "        if num>max:\n",
    "            max=num\n",
    "            \n",
    "            \n",
    "        elif num<min:\n",
    "            min=num\n",
    "            \n",
    "            #return the value of maximum and minimum number \n",
    "            return max,min\n",
    "            \n",
    "print(max_min([10,20,12,222,6887,9999,2,5,13]))"
   ]
  },
  {
   "cell_type": "markdown",
   "metadata": {},
   "source": [
    "### Write a Python function that takes two lists and returns True if they have at least one common member."
   ]
  },
  {
   "cell_type": "code",
   "execution_count": 4,
   "metadata": {},
   "outputs": [
    {
     "name": "stdout",
     "output_type": "stream",
     "text": [
      "True\n"
     ]
    }
   ],
   "source": [
    "def common(list1, list2):\n",
    "    comm = False\n",
    "    for x in list1:\n",
    "            for y in list2:\n",
    "                if x == y:\n",
    "                    comm = True\n",
    "                    return comm\n",
    "print(common([9,0,4,2,1], [3,7,8,6,4]))"
   ]
  },
  {
   "cell_type": "markdown",
   "metadata": {},
   "source": [
    "### Write a Python function to calculate the factorial of a number (a non-negative integer). The function accepts the number from the user"
   ]
  },
  {
   "cell_type": "code",
   "execution_count": 5,
   "metadata": {},
   "outputs": [
    {
     "name": "stdout",
     "output_type": "stream",
     "text": [
      "inter the num that you want to calce the fact of it  : 15\n",
      "1307674368000\n"
     ]
    }
   ],
   "source": [
    "def fact(f):\n",
    "    if f == 0:\n",
    "        return 1\n",
    "    else:\n",
    "        return f * fact(f-1)\n",
    "x=int(input(\"inter the num that you want to calce the fact of it  : \"))\n",
    "print(fact(x))\n",
    "        "
   ]
  },
  {
   "cell_type": "markdown",
   "metadata": {},
   "source": [
    "### Write a Python function to check whether a number is in a given range.\n",
    "\n",
    "### The range is from 3 to 11\n"
   ]
  },
  {
   "cell_type": "code",
   "execution_count": 6,
   "metadata": {},
   "outputs": [
    {
     "name": "stdout",
     "output_type": "stream",
     "text": [
      "inter the num to check if it within range or not  : 15\n",
      "this num out range\n"
     ]
    }
   ],
   "source": [
    "def rangee(num):\n",
    "    if num in range(3,11):\n",
    "        print('this num in range')\n",
    "    else:\n",
    "        print('this num out range')\n",
    "g=int(input(\"inter the num to check if it within range or not  : \"))\n",
    "rangee(g)"
   ]
  },
  {
   "cell_type": "markdown",
   "metadata": {},
   "source": [
    "### Write a  program to create the multiplication table (from 1 to 10) of a number."
   ]
  },
  {
   "cell_type": "code",
   "execution_count": 1,
   "metadata": {},
   "outputs": [
    {
     "name": "stdout",
     "output_type": "stream",
     "text": [
      "Input a number: 10\n",
      "10 x 1 = 10\n",
      "10 x 2 = 20\n",
      "10 x 3 = 30\n",
      "10 x 4 = 40\n",
      "10 x 5 = 50\n",
      "10 x 6 = 60\n",
      "10 x 7 = 70\n",
      "10 x 8 = 80\n",
      "10 x 9 = 90\n",
      "10 x 10 = 100\n"
     ]
    }
   ],
   "source": [
    "n = int(input(\"Input a number: \"))\n",
    "for i in range(1,11):\n",
    "    print(n,'x',i,'=',n*i)\n"
   ]
  },
  {
   "cell_type": "markdown",
   "metadata": {},
   "source": [
    "#### LESSER OF TWO EVENS: Write a function that returns the lesser of two given numbers *if* both numbers are even, but returns the greater if one or both numbers are odd\n",
    "    lesser_of_two_evens(2,4) --> 2\n",
    "    lesser_of_two_evens(2,5) --> 5"
   ]
  },
  {
   "cell_type": "code",
   "execution_count": 13,
   "metadata": {},
   "outputs": [],
   "source": [
    "def lesser(x,y):\n",
    "    if (x % 2 and y % 2) != 0:\n",
    "        if y > x:\n",
    "            print(y)\n",
    "        if x > y:\n",
    "            print(a)    \n",
    "    elif (x % 2 and y % 2) == 0:\n",
    "        if x < y:\n",
    "            print(x)\n",
    "        else:\n",
    "            print(y)    "
   ]
  },
  {
   "cell_type": "code",
   "execution_count": 14,
   "metadata": {},
   "outputs": [
    {
     "name": "stdout",
     "output_type": "stream",
     "text": [
      "2\n"
     ]
    }
   ],
   "source": [
    "lesser(2,4)"
   ]
  },
  {
   "cell_type": "code",
   "execution_count": 15,
   "metadata": {},
   "outputs": [
    {
     "name": "stdout",
     "output_type": "stream",
     "text": [
      "5\n"
     ]
    }
   ],
   "source": [
    "lesser(1,5)"
   ]
  },
  {
   "cell_type": "code",
   "execution_count": null,
   "metadata": {},
   "outputs": [],
   "source": []
  }
 ],
 "metadata": {
  "kernelspec": {
   "display_name": "Python 3 (ipykernel)",
   "language": "python",
   "name": "python3"
  },
  "language_info": {
   "codemirror_mode": {
    "name": "ipython",
    "version": 3
   },
   "file_extension": ".py",
   "mimetype": "text/x-python",
   "name": "python",
   "nbconvert_exporter": "python",
   "pygments_lexer": "ipython3",
   "version": "3.9.12"
  }
 },
 "nbformat": 4,
 "nbformat_minor": 2
}
