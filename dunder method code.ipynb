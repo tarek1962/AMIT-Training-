{
 "cells": [
  {
   "cell_type": "markdown",
   "id": "4696424b",
   "metadata": {},
   "source": [
    "## Understanding Dunder method"
   ]
  },
  {
   "cell_type": "code",
   "execution_count": null,
   "id": "4706156d",
   "metadata": {},
   "outputs": [],
   "source": [
    "# defining Polynomial class\n",
    "class Polynomial:\n",
    "    pass\n",
    "\n",
    "# creating two Polynomial\n",
    "p1 = Polynomial()\n",
    "p2 = Polynomial()\n",
    "\n",
    "# setting Polynomial coefficients\n",
    "p1.coeffs = 1,2,3 #x^2 + 2x +3\n",
    "p2.coeffs = 3,4,5 #3x^2 + 4x + 3\n",
    "\n",
    "# printing coefficients\n",
    "print(p1.coeffs)\n",
    "print(p2.coeffs)"
   ]
  },
  {
   "cell_type": "markdown",
   "id": "e60222af",
   "metadata": {},
   "source": [
    "## Implementing __init__() Method"
   ]
  },
  {
   "cell_type": "code",
   "execution_count": null,
   "id": "951edf86",
   "metadata": {},
   "outputs": [],
   "source": [
    "# defining polynomial class\n",
    "class Polynomial:\n",
    "    def __init__(self, *coeffs):\n",
    "        self.coeffs = coeffs\n",
    "\n",
    "# constructing or initializing Polynomial with coefficients\n",
    "p1 = Polynomial(1,2,3)\n",
    "p2 = Polynomial(3,4,5)\n",
    "\n",
    "# printing class representation\n",
    "print(p1)\n",
    "print(p1)"
   ]
  },
  {
   "cell_type": "markdown",
   "id": "0d42b656",
   "metadata": {},
   "source": [
    "## Implementing __repr__() Method"
   ]
  },
  {
   "cell_type": "code",
   "execution_count": 5,
   "id": "49555cf6",
   "metadata": {},
   "outputs": [
    {
     "name": "stdout",
     "output_type": "stream",
     "text": [
      "Polynomial((1, 2, 3))\n",
      "Polynomial((3, 4, 5))\n"
     ]
    }
   ],
   "source": [
    "# defining polynomial class\n",
    "class Polynomial:\n",
    "    def __init__(self, *coeffs):\n",
    "        self.coeffs = coeffs\n",
    "\n",
    "    def __repr__(self):\n",
    "        return 'Polynomial({!r})'.format(self.coeffs)\n",
    "\n",
    "# constructing or initializing Polynomial with coefficients\n",
    "p1 = Polynomial(1,2,3)\n",
    "p2 = Polynomial(3,4,5)\n",
    "\n",
    "# printing class representation\n",
    "print(p1)\n",
    "print(p2)"
   ]
  },
  {
   "cell_type": "markdown",
   "id": "b7cb7cd9",
   "metadata": {},
   "source": [
    "## Implementing __add__() Method"
   ]
  },
  {
   "cell_type": "code",
   "execution_count": 6,
   "id": "1cf953c6",
   "metadata": {},
   "outputs": [
    {
     "name": "stdout",
     "output_type": "stream",
     "text": [
      "Polynomial((4, 6, 8))\n"
     ]
    }
   ],
   "source": [
    "# defining polynomial class\n",
    "class Polynomial:\n",
    "    def __init__(self, *coeffs):\n",
    "        self.coeffs = coeffs\n",
    "\n",
    "    def __repr__(self):\n",
    "        return 'Polynomial({!r})'.format(self.coeffs)\n",
    "\n",
    "    def __add__(self, other):\n",
    "        return Polynomial(*(x+y for x,y in zip(self.coeffs,other.coeffs)))\n",
    "\n",
    "# constructing or initializing Polynomial with coefficients\n",
    "p1 = Polynomial(1,2,3)\n",
    "p2 = Polynomial(3,4,5)\n",
    "\n",
    "# printing result of addition\n",
    "print(p1+p2)"
   ]
  }
 ],
 "metadata": {
  "kernelspec": {
   "display_name": "Python 3 (ipykernel)",
   "language": "python",
   "name": "python3"
  },
  "language_info": {
   "codemirror_mode": {
    "name": "ipython",
    "version": 3
   },
   "file_extension": ".py",
   "mimetype": "text/x-python",
   "name": "python",
   "nbconvert_exporter": "python",
   "pygments_lexer": "ipython3",
   "version": "3.9.12"
  }
 },
 "nbformat": 4,
 "nbformat_minor": 5
}
