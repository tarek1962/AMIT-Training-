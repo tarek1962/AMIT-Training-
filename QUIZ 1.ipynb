{
 "cells": [
  {
   "cell_type": "markdown",
   "metadata": {
    "collapsed": true
   },
   "source": [
    "# QUIZ\n",
    "Let's test your knowledge!"
   ]
  },
  {
   "cell_type": "markdown",
   "metadata": {},
   "source": [
    "_____\n",
    "**Use <code>for</code>, .split(), and <code>if</code> to create a Statement that will print out words that start with 's':**"
   ]
  },
  {
   "cell_type": "code",
   "execution_count": 1,
   "metadata": {},
   "outputs": [],
   "source": [
    "st = 'Print only the words that start with s in this sentence'"
   ]
  },
  {
   "cell_type": "code",
   "execution_count": 82,
   "metadata": {},
   "outputs": [],
   "source": [
    "#Code here"
   ]
  },
  {
   "cell_type": "markdown",
   "metadata": {},
   "source": [
    "______\n",
    "**Use range() to print all the even numbers from 0 to 10.**"
   ]
  },
  {
   "cell_type": "code",
   "execution_count": 23,
   "metadata": {},
   "outputs": [
    {
     "name": "stdout",
     "output_type": "stream",
     "text": [
      "even num is = 0\n",
      "even num is = 2\n",
      "even num is = 4\n",
      "even num is = 6\n",
      "even num is = 8\n"
     ]
    }
   ],
   "source": [
    "for x in range(10):\n",
    "    if x % 2 == 0:\n",
    "        if x % 2 == 0:\n",
    "            print('even num is =',x)"
   ]
  },
  {
   "cell_type": "markdown",
   "metadata": {},
   "source": [
    "___\n",
    "**Use a List Comprehension to create a list of all numbers between 1 and 50 that are divisible by 3.**"
   ]
  },
  {
   "cell_type": "code",
   "execution_count": 41,
   "metadata": {},
   "outputs": [],
   "source": [
    "i=range(1,50)"
   ]
  },
  {
   "cell_type": "code",
   "execution_count": 42,
   "metadata": {},
   "outputs": [],
   "source": [
    "x=list(i)"
   ]
  },
  {
   "cell_type": "code",
   "execution_count": 51,
   "metadata": {},
   "outputs": [
    {
     "name": "stdout",
     "output_type": "stream",
     "text": [
      "[3]\n",
      "[6]\n",
      "[9]\n",
      "[12]\n",
      "[15]\n",
      "[18]\n",
      "[21]\n",
      "[24]\n",
      "[27]\n",
      "[30]\n",
      "[33]\n",
      "[36]\n",
      "[39]\n",
      "[42]\n",
      "[45]\n",
      "[48]\n"
     ]
    }
   ],
   "source": [
    "y=x[0]\n",
    "for y in x:\n",
    "    if y %3==0:\n",
    "        print([y])"
   ]
  },
  {
   "cell_type": "markdown",
   "metadata": {},
   "source": [
    "_____\n",
    "**Go through the string below and if the length of a word is even print \"even!\"**"
   ]
  },
  {
   "cell_type": "code",
   "execution_count": 76,
   "metadata": {},
   "outputs": [],
   "source": [
    "st = 'Print every word in this sentence that has an even number of letters'"
   ]
  },
  {
   "cell_type": "code",
   "execution_count": 79,
   "metadata": {},
   "outputs": [
    {
     "ename": "SyntaxError",
     "evalue": "invalid syntax (3415249941.py, line 1)",
     "output_type": "error",
     "traceback": [
      "\u001b[1;36m  Input \u001b[1;32mIn [79]\u001b[1;36m\u001b[0m\n\u001b[1;33m    st(1:55:1)\u001b[0m\n\u001b[1;37m        ^\u001b[0m\n\u001b[1;31mSyntaxError\u001b[0m\u001b[1;31m:\u001b[0m invalid syntax\n"
     ]
    }
   ],
   "source": []
  },
  {
   "cell_type": "markdown",
   "metadata": {},
   "source": [
    "____\n",
    "**Write a program that prints the integers from 1 to 100. But for multiples of three print \"Fizz\" instead of the number, and for the multiples of five print \"Buzz\". For numbers which are multiples of both three and five print \"FizzBuzz\".**"
   ]
  },
  {
   "cell_type": "code",
   "execution_count": 33,
   "metadata": {},
   "outputs": [
    {
     "name": "stdout",
     "output_type": "stream",
     "text": [
      "0 is fizz\n",
      "1 is fizzbuzz\n",
      "2 is fizzbuzz\n",
      "3 is fizz\n",
      "4 is fizzbuzz\n",
      "5 is buzz\n",
      "6 is fizz\n",
      "7 is fizzbuzz\n",
      "8 is fizzbuzz\n",
      "9 is fizz\n",
      "10 is buzz\n",
      "11 is fizzbuzz\n",
      "12 is fizz\n",
      "13 is fizzbuzz\n",
      "14 is fizzbuzz\n",
      "15 is fizz\n",
      "16 is fizzbuzz\n",
      "17 is fizzbuzz\n",
      "18 is fizz\n",
      "19 is fizzbuzz\n",
      "20 is buzz\n",
      "21 is fizz\n",
      "22 is fizzbuzz\n",
      "23 is fizzbuzz\n",
      "24 is fizz\n",
      "25 is buzz\n",
      "26 is fizzbuzz\n",
      "27 is fizz\n",
      "28 is fizzbuzz\n",
      "29 is fizzbuzz\n",
      "30 is fizz\n",
      "31 is fizzbuzz\n",
      "32 is fizzbuzz\n",
      "33 is fizz\n",
      "34 is fizzbuzz\n",
      "35 is buzz\n",
      "36 is fizz\n",
      "37 is fizzbuzz\n",
      "38 is fizzbuzz\n",
      "39 is fizz\n",
      "40 is buzz\n",
      "41 is fizzbuzz\n",
      "42 is fizz\n",
      "43 is fizzbuzz\n",
      "44 is fizzbuzz\n",
      "45 is fizz\n",
      "46 is fizzbuzz\n",
      "47 is fizzbuzz\n",
      "48 is fizz\n",
      "49 is fizzbuzz\n",
      "50 is buzz\n",
      "51 is fizz\n",
      "52 is fizzbuzz\n",
      "53 is fizzbuzz\n",
      "54 is fizz\n",
      "55 is buzz\n",
      "56 is fizzbuzz\n",
      "57 is fizz\n",
      "58 is fizzbuzz\n",
      "59 is fizzbuzz\n",
      "60 is fizz\n",
      "61 is fizzbuzz\n",
      "62 is fizzbuzz\n",
      "63 is fizz\n",
      "64 is fizzbuzz\n",
      "65 is buzz\n",
      "66 is fizz\n",
      "67 is fizzbuzz\n",
      "68 is fizzbuzz\n",
      "69 is fizz\n",
      "70 is buzz\n",
      "71 is fizzbuzz\n",
      "72 is fizz\n",
      "73 is fizzbuzz\n",
      "74 is fizzbuzz\n",
      "75 is fizz\n",
      "76 is fizzbuzz\n",
      "77 is fizzbuzz\n",
      "78 is fizz\n",
      "79 is fizzbuzz\n",
      "80 is buzz\n",
      "81 is fizz\n",
      "82 is fizzbuzz\n",
      "83 is fizzbuzz\n",
      "84 is fizz\n",
      "85 is buzz\n",
      "86 is fizzbuzz\n",
      "87 is fizz\n",
      "88 is fizzbuzz\n",
      "89 is fizzbuzz\n",
      "90 is fizz\n",
      "91 is fizzbuzz\n",
      "92 is fizzbuzz\n",
      "93 is fizz\n",
      "94 is fizzbuzz\n",
      "95 is buzz\n",
      "96 is fizz\n",
      "97 is fizzbuzz\n",
      "98 is fizzbuzz\n",
      "99 is fizz\n"
     ]
    }
   ],
   "source": [
    "#create acounter for numbers from 1:100\n",
    "#make a comparison between numbers and take the riminder if the reminder is 0 when divided into 3 this num is fizz or this num  divided into 5 this num is buzz unless is fizzbuzz\n",
    "for x in range(100):\n",
    "    if x % 3 == 0:\n",
    "        print(x,'is fizz')\n",
    "    elif x % 5==0:\n",
    "        print(x,'is buzz')\n",
    "    else:\n",
    "        print(x,'is fizzbuzz')"
   ]
  },
  {
   "cell_type": "markdown",
   "metadata": {},
   "source": [
    "____\n",
    "**Use List Comprehension to create a list of the first letters of every word in the string below:**"
   ]
  },
  {
   "cell_type": "code",
   "execution_count": 73,
   "metadata": {},
   "outputs": [],
   "source": [
    "st = 'Create a list of the first letters of every word in this string'"
   ]
  },
  {
   "cell_type": "code",
   "execution_count": 75,
   "metadata": {},
   "outputs": [
    {
     "data": {
      "text/plain": [
       "[]"
      ]
     },
     "execution_count": 75,
     "metadata": {},
     "output_type": "execute_result"
    }
   ],
   "source": [
    "#Code in this cell\n",
    "st=list()\n"
   ]
  },
  {
   "cell_type": "markdown",
   "metadata": {},
   "source": [
    "### Great Job!"
   ]
  }
 ],
 "metadata": {
  "kernelspec": {
   "display_name": "Python 3 (ipykernel)",
   "language": "python",
   "name": "python3"
  },
  "language_info": {
   "codemirror_mode": {
    "name": "ipython",
    "version": 3
   },
   "file_extension": ".py",
   "mimetype": "text/x-python",
   "name": "python",
   "nbconvert_exporter": "python",
   "pygments_lexer": "ipython3",
   "version": "3.9.12"
  }
 },
 "nbformat": 4,
 "nbformat_minor": 1
}
