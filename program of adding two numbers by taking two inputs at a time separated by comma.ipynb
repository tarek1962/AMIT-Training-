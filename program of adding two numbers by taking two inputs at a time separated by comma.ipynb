{
 "cells": [
  {
   "cell_type": "code",
   "execution_count": 4,
   "id": "5fcbf41a",
   "metadata": {},
   "outputs": [
    {
     "name": "stdout",
     "output_type": "stream",
     "text": [
      "10,10\n"
     ]
    }
   ],
   "source": [
    "# taking two integer inputs\n",
    "x,y=map(int,input().split(','))"
   ]
  },
  {
   "cell_type": "code",
   "execution_count": 5,
   "id": "212364ab",
   "metadata": {},
   "outputs": [],
   "source": [
    "#put the result of summing in an identifier \n",
    "z=x+y"
   ]
  },
  {
   "cell_type": "code",
   "execution_count": 7,
   "id": "5d57a35b",
   "metadata": {},
   "outputs": [
    {
     "name": "stdout",
     "output_type": "stream",
     "text": [
      "20\n"
     ]
    }
   ],
   "source": [
    "#print the result to user\n",
    "print(z)"
   ]
  }
 ],
 "metadata": {
  "kernelspec": {
   "display_name": "Python 3 (ipykernel)",
   "language": "python",
   "name": "python3"
  },
  "language_info": {
   "codemirror_mode": {
    "name": "ipython",
    "version": 3
   },
   "file_extension": ".py",
   "mimetype": "text/x-python",
   "name": "python",
   "nbconvert_exporter": "python",
   "pygments_lexer": "ipython3",
   "version": "3.9.12"
  }
 },
 "nbformat": 4,
 "nbformat_minor": 5
}
